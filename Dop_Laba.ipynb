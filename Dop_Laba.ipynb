{
 "cells": [
  {
   "cell_type": "code",
   "execution_count": 268,
   "metadata": {},
   "outputs": [],
   "source": [
    "import numpy as np\n",
    "from scipy.stats import t\n",
    "from scipy.stats import norm\n",
    "import matplotlib.pyplot as plt\n",
    "from scipy import stats\n",
    "import pandas as pd\n",
    "import io\n",
    "import requests\n",
    "import seaborn as sns\n",
    "%matplotlib inline\n",
    "import statistics"
   ]
  },
  {
   "cell_type": "markdown",
   "metadata": {},
   "source": [
    "Поступил звонок от компании-клиента.\n",
    "Необходима срочная перевозка груза из Таллинна в Санкт-Петербург.\n",
    "Вес груза неизвестен, но известно, что перевезти предстоит 140 коробок.\n",
    "В Таллинне в настоящий момент доступен только один автомобиль грузоподъемностью 1,2 тонны.\n",
    "Ответить в терминах анализа данных (например оценить вероятность или проверить статистическую гипотезу)"
   ]
  },
  {
   "cell_type": "code",
   "execution_count": 269,
   "metadata": {},
   "outputs": [
    {
     "data": {
      "text/html": [
       "<div>\n",
       "<style scoped>\n",
       "    .dataframe tbody tr th:only-of-type {\n",
       "        vertical-align: middle;\n",
       "    }\n",
       "\n",
       "    .dataframe tbody tr th {\n",
       "        vertical-align: top;\n",
       "    }\n",
       "\n",
       "    .dataframe thead th {\n",
       "        text-align: right;\n",
       "    }\n",
       "</style>\n",
       "<table border=\"1\" class=\"dataframe\">\n",
       "  <thead>\n",
       "    <tr style=\"text-align: right;\">\n",
       "      <th></th>\n",
       "      <th>nomer zakaza</th>\n",
       "      <th>ves gruza</th>\n",
       "      <th>day</th>\n",
       "      <th>kol korobok</th>\n",
       "      <th>city otpravki</th>\n",
       "      <th>city dostavki</th>\n",
       "    </tr>\n",
       "  </thead>\n",
       "  <tbody>\n",
       "    <tr>\n",
       "      <th>0</th>\n",
       "      <td>22</td>\n",
       "      <td>1122.21</td>\n",
       "      <td>1</td>\n",
       "      <td>157</td>\n",
       "      <td>Таллин</td>\n",
       "      <td>Санкт-Петербург</td>\n",
       "    </tr>\n",
       "    <tr>\n",
       "      <th>1</th>\n",
       "      <td>37</td>\n",
       "      <td>1110.50</td>\n",
       "      <td>1</td>\n",
       "      <td>148</td>\n",
       "      <td>Рига</td>\n",
       "      <td>Санкт-Петербург</td>\n",
       "    </tr>\n",
       "    <tr>\n",
       "      <th>2</th>\n",
       "      <td>64</td>\n",
       "      <td>1165.27</td>\n",
       "      <td>1</td>\n",
       "      <td>153</td>\n",
       "      <td>Москва</td>\n",
       "      <td>Рига</td>\n",
       "    </tr>\n",
       "    <tr>\n",
       "      <th>3</th>\n",
       "      <td>95</td>\n",
       "      <td>1157.63</td>\n",
       "      <td>1</td>\n",
       "      <td>153</td>\n",
       "      <td>Таллин</td>\n",
       "      <td>Санкт-Петербург</td>\n",
       "    </tr>\n",
       "    <tr>\n",
       "      <th>4</th>\n",
       "      <td>105</td>\n",
       "      <td>1000.52</td>\n",
       "      <td>1</td>\n",
       "      <td>145</td>\n",
       "      <td>Вильнюс</td>\n",
       "      <td>Санкт-Петербург</td>\n",
       "    </tr>\n",
       "  </tbody>\n",
       "</table>\n",
       "</div>"
      ],
      "text/plain": [
       "   nomer zakaza  ves gruza  day  kol korobok city otpravki    city dostavki\n",
       "0            22    1122.21    1          157        Таллин  Санкт-Петербург\n",
       "1            37    1110.50    1          148          Рига  Санкт-Петербург\n",
       "2            64    1165.27    1          153        Москва             Рига\n",
       "3            95    1157.63    1          153        Таллин  Санкт-Петербург\n",
       "4           105    1000.52    1          145       Вильнюс  Санкт-Петербург"
      ]
     },
     "execution_count": 269,
     "metadata": {},
     "output_type": "execute_result"
    }
   ],
   "source": [
    "df = pd.read_csv('zakazi.csv')\n",
    "df.head()"
   ]
  },
  {
   "cell_type": "code",
   "execution_count": 270,
   "metadata": {},
   "outputs": [
    {
     "data": {
      "text/html": [
       "<div>\n",
       "<style scoped>\n",
       "    .dataframe tbody tr th:only-of-type {\n",
       "        vertical-align: middle;\n",
       "    }\n",
       "\n",
       "    .dataframe tbody tr th {\n",
       "        vertical-align: top;\n",
       "    }\n",
       "\n",
       "    .dataframe thead th {\n",
       "        text-align: right;\n",
       "    }\n",
       "</style>\n",
       "<table border=\"1\" class=\"dataframe\">\n",
       "  <thead>\n",
       "    <tr style=\"text-align: right;\">\n",
       "      <th></th>\n",
       "      <th>number_box</th>\n",
       "      <th>number_zakaza</th>\n",
       "      <th>ves_box</th>\n",
       "    </tr>\n",
       "  </thead>\n",
       "  <tbody>\n",
       "    <tr>\n",
       "      <th>0</th>\n",
       "      <td>1</td>\n",
       "      <td>1</td>\n",
       "      <td>5.88</td>\n",
       "    </tr>\n",
       "    <tr>\n",
       "      <th>1</th>\n",
       "      <td>2</td>\n",
       "      <td>1</td>\n",
       "      <td>5.69</td>\n",
       "    </tr>\n",
       "    <tr>\n",
       "      <th>2</th>\n",
       "      <td>3</td>\n",
       "      <td>1</td>\n",
       "      <td>3.69</td>\n",
       "    </tr>\n",
       "    <tr>\n",
       "      <th>3</th>\n",
       "      <td>4</td>\n",
       "      <td>1</td>\n",
       "      <td>5.56</td>\n",
       "    </tr>\n",
       "    <tr>\n",
       "      <th>4</th>\n",
       "      <td>5</td>\n",
       "      <td>1</td>\n",
       "      <td>3.45</td>\n",
       "    </tr>\n",
       "  </tbody>\n",
       "</table>\n",
       "</div>"
      ],
      "text/plain": [
       "   number_box  number_zakaza  ves_box\n",
       "0           1              1     5.88\n",
       "1           2              1     5.69\n",
       "2           3              1     3.69\n",
       "3           4              1     5.56\n",
       "4           5              1     3.45"
      ]
     },
     "execution_count": 270,
     "metadata": {},
     "output_type": "execute_result"
    }
   ],
   "source": [
    "bx = pd.read_csv('boxes.csv')\n",
    "bx.head()"
   ]
  },
  {
   "cell_type": "code",
   "execution_count": 271,
   "metadata": {},
   "outputs": [
    {
     "name": "stdout",
     "output_type": "stream",
     "text": [
      "<class 'pandas.core.frame.DataFrame'>\n",
      "RangeIndex: 1300 entries, 0 to 1299\n",
      "Data columns (total 6 columns):\n",
      " #   Column         Non-Null Count  Dtype  \n",
      "---  ------         --------------  -----  \n",
      " 0   nomer zakaza   1300 non-null   int64  \n",
      " 1   ves gruza      1300 non-null   float64\n",
      " 2   day            1300 non-null   int64  \n",
      " 3   kol korobok    1300 non-null   int64  \n",
      " 4   city otpravki  1300 non-null   object \n",
      " 5   city dostavki  1300 non-null   object \n",
      "dtypes: float64(1), int64(3), object(2)\n",
      "memory usage: 61.1+ KB\n"
     ]
    }
   ],
   "source": [
    "df.info()"
   ]
  },
  {
   "cell_type": "code",
   "execution_count": 272,
   "metadata": {},
   "outputs": [
    {
     "data": {
      "text/plain": [
       "(1300, 6)"
      ]
     },
     "execution_count": 272,
     "metadata": {},
     "output_type": "execute_result"
    }
   ],
   "source": [
    "df.shape"
   ]
  },
  {
   "cell_type": "code",
   "execution_count": 273,
   "metadata": {},
   "outputs": [
    {
     "data": {
      "text/plain": [
       "nomer zakaza     0\n",
       "ves gruza        0\n",
       "day              0\n",
       "kol korobok      0\n",
       "city otpravki    0\n",
       "city dostavki    0\n",
       "dtype: int64"
      ]
     },
     "execution_count": 273,
     "metadata": {},
     "output_type": "execute_result"
    }
   ],
   "source": [
    "df.isnull().sum()"
   ]
  },
  {
   "cell_type": "markdown",
   "metadata": {},
   "source": [
    "В наборе данных 'Заказы(zakazi.csv)' 6 столбцов и 1300 строк, без нулевых значений."
   ]
  },
  {
   "cell_type": "code",
   "execution_count": 274,
   "metadata": {},
   "outputs": [
    {
     "name": "stdout",
     "output_type": "stream",
     "text": [
      "<class 'pandas.core.frame.DataFrame'>\n",
      "RangeIndex: 196132 entries, 0 to 196131\n",
      "Data columns (total 3 columns):\n",
      " #   Column         Non-Null Count   Dtype  \n",
      "---  ------         --------------   -----  \n",
      " 0   number_box     196132 non-null  int64  \n",
      " 1   number_zakaza  196132 non-null  int64  \n",
      " 2   ves_box        196132 non-null  float64\n",
      "dtypes: float64(1), int64(2)\n",
      "memory usage: 4.5 MB\n"
     ]
    }
   ],
   "source": [
    "bx.info()"
   ]
  },
  {
   "cell_type": "code",
   "execution_count": 275,
   "metadata": {},
   "outputs": [
    {
     "data": {
      "text/plain": [
       "(196132, 3)"
      ]
     },
     "execution_count": 275,
     "metadata": {},
     "output_type": "execute_result"
    }
   ],
   "source": [
    "bx.shape"
   ]
  },
  {
   "cell_type": "code",
   "execution_count": 276,
   "metadata": {},
   "outputs": [
    {
     "data": {
      "text/plain": [
       "nomer zakaza     0\n",
       "ves gruza        0\n",
       "day              0\n",
       "kol korobok      0\n",
       "city otpravki    0\n",
       "city dostavki    0\n",
       "dtype: int64"
      ]
     },
     "execution_count": 276,
     "metadata": {},
     "output_type": "execute_result"
    }
   ],
   "source": [
    "df.isnull().sum()"
   ]
  },
  {
   "cell_type": "markdown",
   "metadata": {},
   "source": [
    "В наборе данных 'коробки по заказам(boxes.csv)' 3 столбца и 196132 строк. Также нет нулевых значений."
   ]
  },
  {
   "cell_type": "code",
   "execution_count": 317,
   "metadata": {},
   "outputs": [
    {
     "name": "stdout",
     "output_type": "stream",
     "text": [
      "     kol zakazov  ves gruza  kol korobok\n",
      "day                                     \n",
      "1             19   20877.61         2791\n",
      "2             53   60484.58         7993\n",
      "3             46   52247.32         6980\n",
      "4             42   47102.55         6280\n",
      "5             52   57398.69         7756\n",
      "6             42   47179.19         6314\n",
      "7             38   41938.29         5641\n",
      "8             37   41985.78         5580\n",
      "9             47   53460.71         7097\n",
      "10            56   63866.80         8520\n",
      "11            40   45119.20         6021\n",
      "12            42   47767.00         6308\n",
      "13            46   52372.08         7034\n",
      "14            54   61312.34         8241\n",
      "15            40   45227.68         6000\n",
      "16            36   41917.27         5494\n",
      "17            34   39402.74         5220\n",
      "18            36   41386.28         5506\n",
      "19            41   46865.42         6205\n",
      "20            39   44948.67         6028\n",
      "21            38   42726.00         5647\n",
      "22            49   55252.81         7407\n",
      "23            59   67357.22         8962\n",
      "24            39   44134.99         5861\n",
      "25            49   55244.51         7362\n",
      "26            39   44312.94         5906\n",
      "27            46   51665.77         6852\n",
      "28            53   60559.53         8063\n",
      "29            64   71493.09         9445\n",
      "30            24   27104.45         3618 \n",
      "\n",
      "Самое большое число заказов = 64 в 29 -й день\n",
      "Максимальный вес груза составил 71493.08999999998 c количеством 9445 коробок\n"
     ]
    }
   ],
   "source": [
    "#рассчитаем общее число заказов, суммы веса груза и количества коробок по дням \n",
    "df1= df.groupby('day').agg({ 'nomer zakaza': 'count','ves gruza' : 'sum', 'kol korobok' : 'sum'}).rename(columns={'nomer zakaza':'kol zakazov'})\n",
    "print(df1,'\\n')\n",
    "print('Самое большое число заказов =', max(df1['kol zakazov']), 'в', df1['kol zakazov'].argmax()+1, '-й день')\n",
    "print('Максимальный вес груза составил', max(df1['ves gruza']), 'c количеством', max(df1['kol korobok']), 'коробок')"
   ]
  },
  {
   "cell_type": "code",
   "execution_count": 318,
   "metadata": {},
   "outputs": [
    {
     "name": "stdout",
     "output_type": "stream",
     "text": [
      "city otpravki   Вильнюс  Калининград    Москва      Рига  Санкт-Петербург  \\\n",
      "day                                                                         \n",
      "1               2246.44       975.61   3394.15   5659.63              NaN   \n",
      "2               7023.67      5011.30  10850.92  18473.70          5647.30   \n",
      "3               4445.65      2246.73  12372.55  17116.15          4781.41   \n",
      "4               3514.10      2062.74  13217.31  12018.47          4698.09   \n",
      "5               4258.86      4543.74   3454.55  17508.51          6687.43   \n",
      "6               8759.29      2183.40   7919.65  18313.70          1030.18   \n",
      "7               2309.84      2227.95  11981.02   8954.28          1112.52   \n",
      "8               2226.52      2343.00   6942.35  15754.67          5030.10   \n",
      "9              10918.16      2230.86   8098.28  16623.68          4466.14   \n",
      "10              2272.73      3202.95  17452.16  20856.87          2381.82   \n",
      "11              4743.07      2335.36   9210.63  12211.44          4161.92   \n",
      "12             10353.56      2074.67  16086.62   7692.76          1126.38   \n",
      "13              4654.60      6941.34  11197.05  17842.61          1051.14   \n",
      "14              5415.85      2178.59  10264.77  21596.93          3562.76   \n",
      "15              5643.89          NaN   4505.43  19875.10          2481.87   \n",
      "16                  NaN      6873.01   5997.79  16407.37          2222.21   \n",
      "17              4655.83      1129.14   7298.37   5792.24          5399.89   \n",
      "18              4670.05      1188.52   7886.08  11453.21          1199.65   \n",
      "19              3310.49      3692.85   4077.50  19711.34           964.82   \n",
      "20              4604.23      3431.03   9237.20  11927.36          2217.54   \n",
      "21              5684.52      2345.73   7898.17  12245.69              NaN   \n",
      "22              8832.96      7748.21  10435.16   8150.63          2144.25   \n",
      "23             10423.22      4496.32  17926.63  14633.15          7149.98   \n",
      "24              5549.02      2323.34   7572.60  14842.56          2179.20   \n",
      "25              1311.98      9228.32   5892.69  21085.20              NaN   \n",
      "26              7000.97      2132.89   5575.72  12495.49          2215.89   \n",
      "27              2245.33      3271.25  10254.06  11917.71          3195.21   \n",
      "28              2394.72      2162.90  16234.82  16689.60          4354.82   \n",
      "29              8305.00      1102.80  12689.45  24364.50          6247.26   \n",
      "30               926.33          NaN   7840.78   7859.30          1143.86   \n",
      "\n",
      "city otpravki    Таллин  Хельсинки  \n",
      "day                                 \n",
      "1               5325.63    3276.15  \n",
      "2               6634.57    6843.12  \n",
      "3              10075.50    1209.33  \n",
      "4               7012.78    4579.06  \n",
      "5              13302.39    7643.21  \n",
      "6               2428.30    6544.67  \n",
      "7              13201.83    2150.85  \n",
      "8               6489.58    3199.56  \n",
      "9               8972.80    2150.79  \n",
      "10             13626.93    4073.34  \n",
      "11              7997.69    4459.09  \n",
      "12              6984.72    3448.29  \n",
      "13              8372.18    2313.16  \n",
      "14             11414.96    6878.48  \n",
      "15              8203.63    4517.76  \n",
      "16              6754.56    3662.33  \n",
      "17              6918.58    8208.69  \n",
      "18              4741.73   10247.04  \n",
      "19             11639.54    3468.88  \n",
      "20              9146.75    4384.56  \n",
      "21             13430.09    1121.80  \n",
      "22             13561.04    4380.56  \n",
      "23             10331.67    2396.25  \n",
      "24              9381.00    2287.27  \n",
      "25             12198.66    5527.66  \n",
      "26             12671.01    2220.97  \n",
      "27             11798.71    8983.50  \n",
      "28             13934.30    4788.37  \n",
      "29             13205.01    5579.07  \n",
      "30              4925.03    4409.15   \n",
      "\n",
      "Макс.груз, отправленный с г.Вильнюс = 10918.16 в 9 -й день\n",
      "Макс.груз, отправленный с г.Калининград = 9228.320000000002 в 25 -й день\n",
      "Макс.груз, отправленный с г.Москва = 17926.630000000005 в 23 -й день\n",
      "Макс.груз, отправленный с г.Рига = 24364.5 в 29 -й день\n",
      "Макс.груз, отправленный с г.Санкт-Петербург = nan в 23 -й день\n",
      "Макс.груз, отправленный с г.Таллин = 13934.300000000001 в 28 -й день\n",
      "Макс.груз, отправленный с г.Хельсинки = 10247.039999999999 в 18 -й день\n"
     ]
    }
   ],
   "source": [
    "#рассчитаем вес груза для каждого дня и города отправки \n",
    "df2 = df.groupby(['day', 'city otpravki'])['ves gruza'].aggregate('sum').unstack()\n",
    "print(df2, '\\n')\n",
    "print('Макс.груз, отправленный с г.Вильнюс =',max(df2['Вильнюс']),'в', df2['Вильнюс'].argmax()+1, '-й день')\n",
    "print('Макс.груз, отправленный с г.Калининград =',max(df2['Калининград']),'в', df2['Калининград'].argmax()+1, '-й день')\n",
    "print('Макс.груз, отправленный с г.Москва =',max(df2['Москва']),'в', df2['Москва'].argmax()+1, '-й день')\n",
    "print('Макс.груз, отправленный с г.Рига =',max(df2['Рига']),'в', df2['Рига'].argmax()+1, '-й день')\n",
    "print('Макс.груз, отправленный с г.Санкт-Петербург =', max(df2['Санкт-Петербург']),'в', df2['Санкт-Петербург'].argmax()+1, '-й день')\n",
    "print('Макс.груз, отправленный с г.Таллин =',max(df2['Таллин']),'в', df2['Таллин'].argmax()+1,'-й день')\n",
    "print('Макс.груз, отправленный с г.Хельсинки =',max(df2['Хельсинки']),'в', df2['Хельсинки'].argmax()+1, '-й день')"
   ]
  },
  {
   "cell_type": "code",
   "execution_count": 277,
   "metadata": {},
   "outputs": [
    {
     "data": {
      "text/html": [
       "<div>\n",
       "<style scoped>\n",
       "    .dataframe tbody tr th:only-of-type {\n",
       "        vertical-align: middle;\n",
       "    }\n",
       "\n",
       "    .dataframe tbody tr th {\n",
       "        vertical-align: top;\n",
       "    }\n",
       "\n",
       "    .dataframe thead th {\n",
       "        text-align: right;\n",
       "    }\n",
       "</style>\n",
       "<table border=\"1\" class=\"dataframe\">\n",
       "  <thead>\n",
       "    <tr style=\"text-align: right;\">\n",
       "      <th></th>\n",
       "      <th>nomer zakaza</th>\n",
       "      <th>ves gruza</th>\n",
       "      <th>day</th>\n",
       "      <th>kol korobok</th>\n",
       "    </tr>\n",
       "  </thead>\n",
       "  <tbody>\n",
       "    <tr>\n",
       "      <th>count</th>\n",
       "      <td>1300.000000</td>\n",
       "      <td>1300.000000</td>\n",
       "      <td>1300.000000</td>\n",
       "      <td>1300.000000</td>\n",
       "    </tr>\n",
       "    <tr>\n",
       "      <th>mean</th>\n",
       "      <td>650.500000</td>\n",
       "      <td>1132.855008</td>\n",
       "      <td>15.736154</td>\n",
       "      <td>150.870769</td>\n",
       "    </tr>\n",
       "    <tr>\n",
       "      <th>std</th>\n",
       "      <td>375.421985</td>\n",
       "      <td>91.835719</td>\n",
       "      <td>8.634771</td>\n",
       "      <td>10.197823</td>\n",
       "    </tr>\n",
       "    <tr>\n",
       "      <th>min</th>\n",
       "      <td>1.000000</td>\n",
       "      <td>823.520000</td>\n",
       "      <td>1.000000</td>\n",
       "      <td>113.000000</td>\n",
       "    </tr>\n",
       "    <tr>\n",
       "      <th>25%</th>\n",
       "      <td>325.750000</td>\n",
       "      <td>1067.890000</td>\n",
       "      <td>8.000000</td>\n",
       "      <td>144.000000</td>\n",
       "    </tr>\n",
       "    <tr>\n",
       "      <th>50%</th>\n",
       "      <td>650.500000</td>\n",
       "      <td>1136.450000</td>\n",
       "      <td>15.000000</td>\n",
       "      <td>151.000000</td>\n",
       "    </tr>\n",
       "    <tr>\n",
       "      <th>75%</th>\n",
       "      <td>975.250000</td>\n",
       "      <td>1195.805000</td>\n",
       "      <td>23.000000</td>\n",
       "      <td>158.000000</td>\n",
       "    </tr>\n",
       "    <tr>\n",
       "      <th>max</th>\n",
       "      <td>1300.000000</td>\n",
       "      <td>1375.520000</td>\n",
       "      <td>30.000000</td>\n",
       "      <td>182.000000</td>\n",
       "    </tr>\n",
       "  </tbody>\n",
       "</table>\n",
       "</div>"
      ],
      "text/plain": [
       "       nomer zakaza    ves gruza          day  kol korobok\n",
       "count   1300.000000  1300.000000  1300.000000  1300.000000\n",
       "mean     650.500000  1132.855008    15.736154   150.870769\n",
       "std      375.421985    91.835719     8.634771    10.197823\n",
       "min        1.000000   823.520000     1.000000   113.000000\n",
       "25%      325.750000  1067.890000     8.000000   144.000000\n",
       "50%      650.500000  1136.450000    15.000000   151.000000\n",
       "75%      975.250000  1195.805000    23.000000   158.000000\n",
       "max     1300.000000  1375.520000    30.000000   182.000000"
      ]
     },
     "execution_count": 277,
     "metadata": {},
     "output_type": "execute_result"
    }
   ],
   "source": [
    "df.describe()"
   ]
  },
  {
   "cell_type": "code",
   "execution_count": 278,
   "metadata": {},
   "outputs": [
    {
     "data": {
      "text/html": [
       "<div>\n",
       "<style scoped>\n",
       "    .dataframe tbody tr th:only-of-type {\n",
       "        vertical-align: middle;\n",
       "    }\n",
       "\n",
       "    .dataframe tbody tr th {\n",
       "        vertical-align: top;\n",
       "    }\n",
       "\n",
       "    .dataframe thead th {\n",
       "        text-align: right;\n",
       "    }\n",
       "</style>\n",
       "<table border=\"1\" class=\"dataframe\">\n",
       "  <thead>\n",
       "    <tr style=\"text-align: right;\">\n",
       "      <th></th>\n",
       "      <th>number_box</th>\n",
       "      <th>number_zakaza</th>\n",
       "      <th>ves_box</th>\n",
       "    </tr>\n",
       "  </thead>\n",
       "  <tbody>\n",
       "    <tr>\n",
       "      <th>count</th>\n",
       "      <td>196132.000000</td>\n",
       "      <td>196132.000000</td>\n",
       "      <td>196132.000000</td>\n",
       "    </tr>\n",
       "    <tr>\n",
       "      <th>mean</th>\n",
       "      <td>98066.500000</td>\n",
       "      <td>654.980651</td>\n",
       "      <td>7.508777</td>\n",
       "    </tr>\n",
       "    <tr>\n",
       "      <th>std</th>\n",
       "      <td>56618.575836</td>\n",
       "      <td>376.722401</td>\n",
       "      <td>5.792084</td>\n",
       "    </tr>\n",
       "    <tr>\n",
       "      <th>min</th>\n",
       "      <td>1.000000</td>\n",
       "      <td>1.000000</td>\n",
       "      <td>0.410000</td>\n",
       "    </tr>\n",
       "    <tr>\n",
       "      <th>25%</th>\n",
       "      <td>49033.750000</td>\n",
       "      <td>329.000000</td>\n",
       "      <td>3.600000</td>\n",
       "    </tr>\n",
       "    <tr>\n",
       "      <th>50%</th>\n",
       "      <td>98066.500000</td>\n",
       "      <td>656.000000</td>\n",
       "      <td>5.100000</td>\n",
       "    </tr>\n",
       "    <tr>\n",
       "      <th>75%</th>\n",
       "      <td>147099.250000</td>\n",
       "      <td>982.000000</td>\n",
       "      <td>11.190000</td>\n",
       "    </tr>\n",
       "    <tr>\n",
       "      <th>max</th>\n",
       "      <td>196132.000000</td>\n",
       "      <td>1300.000000</td>\n",
       "      <td>25.710000</td>\n",
       "    </tr>\n",
       "  </tbody>\n",
       "</table>\n",
       "</div>"
      ],
      "text/plain": [
       "          number_box  number_zakaza        ves_box\n",
       "count  196132.000000  196132.000000  196132.000000\n",
       "mean    98066.500000     654.980651       7.508777\n",
       "std     56618.575836     376.722401       5.792084\n",
       "min         1.000000       1.000000       0.410000\n",
       "25%     49033.750000     329.000000       3.600000\n",
       "50%     98066.500000     656.000000       5.100000\n",
       "75%    147099.250000     982.000000      11.190000\n",
       "max    196132.000000    1300.000000      25.710000"
      ]
     },
     "execution_count": 278,
     "metadata": {},
     "output_type": "execute_result"
    }
   ],
   "source": [
    "bx.describe()"
   ]
  },
  {
   "cell_type": "markdown",
   "metadata": {},
   "source": [
    "##### По таблице видим, что средний вес коробки = 7,508777\n",
    "25%, 50%, 75% - соответствующие квартили (1ый, второй, третий). Второй квартиль является самостоятельной полезной статистической величиной, так как показывает, что 50% наблюдений в выборке лежит ниже данного числа, а остальные — соответственно выше, то есть он фактически делит выборку пополам, т.е. это как бы и есть медиана. "
   ]
  },
  {
   "cell_type": "code",
   "execution_count": 279,
   "metadata": {},
   "outputs": [
    {
     "data": {
      "text/plain": [
       "1051.2288224257134"
      ]
     },
     "execution_count": 279,
     "metadata": {},
     "output_type": "execute_result"
    }
   ],
   "source": [
    "statistics.mean(bx['ves_box'])*140"
   ]
  },
  {
   "cell_type": "markdown",
   "metadata": {},
   "source": [
    "##### Получили средний вес груза = 1051.23 , который нужно перевести, т.е. вес 140 коробок. "
   ]
  },
  {
   "cell_type": "code",
   "execution_count": 280,
   "metadata": {},
   "outputs": [
    {
     "name": "stdout",
     "output_type": "stream",
     "text": [
      "Основные характеристики \"вес груза\"\n",
      "Медиана = 1136.4499999999998\n",
      "Мода = 1157.63\n",
      "Мат. ожидание = 1132.8550076923077\n",
      "Стандартное отклонение = 91.80039069088944\n",
      "Дисперсия = 8427.311730999942\n",
      "Минимум = 823.52\n",
      "Максимум = 1375.52\n",
      "Размах = 552.0\n"
     ]
    }
   ],
   "source": [
    "print('Основные характеристики \"вес груза\"')\n",
    "print('Медиана =', statistics.median(df['ves gruza']))\n",
    "print('Мода =', statistics.mode(df['ves gruza']))\n",
    "print('Мат. ожидание =', statistics.mean(df['ves gruza']))\n",
    "print('Стандартное отклонение =', statistics.pstdev(df['ves gruza']))\n",
    "print('Дисперсия =', statistics.pvariance(df['ves gruza']))\n",
    "print('Минимум =', min(df['ves gruza']))\n",
    "print('Максимум =', max(df['ves gruza']))\n",
    "print('Размах =', max(df['ves gruza']) - min(df['ves gruza']))"
   ]
  },
  {
   "cell_type": "markdown",
   "metadata": {},
   "source": [
    "Посчитаем 30-типроцентный квантиль для всех атрибутов в данных 'zakazi.csv'"
   ]
  },
  {
   "cell_type": "code",
   "execution_count": 258,
   "metadata": {},
   "outputs": [
    {
     "data": {
      "text/plain": [
       "nomer zakaza     390.700\n",
       "ves gruza       1085.202\n",
       "day               10.000\n",
       "kol korobok      146.000\n",
       "Name: 0.3, dtype: float64"
      ]
     },
     "execution_count": 258,
     "metadata": {},
     "output_type": "execute_result"
    }
   ],
   "source": [
    "df.quantile(.30)"
   ]
  },
  {
   "cell_type": "markdown",
   "metadata": {},
   "source": [
    "Докажем, что 146 - это 30ти процентный квантиль столбца 'kol korobok' :"
   ]
  },
  {
   "cell_type": "code",
   "execution_count": 262,
   "metadata": {},
   "outputs": [
    {
     "data": {
      "text/plain": [
       "0.3423076923076923"
      ]
     },
     "execution_count": 262,
     "metadata": {},
     "output_type": "execute_result"
    }
   ],
   "source": [
    "quantille_30 = kol_korobok.quantile(.3)\n",
    "len(kol_korobok[kol_korobok<=quantille_30])/len(kol_korobok)"
   ]
  },
  {
   "cell_type": "code",
   "execution_count": 263,
   "metadata": {},
   "outputs": [
    {
     "data": {
      "image/png": "[encoded data removed]",
      "text/plain": [
       "<Figure size 432x288 with 1 Axes>"
      ]
     },
     "metadata": {
      "needs_background": "light"
     },
     "output_type": "display_data"
    }
   ],
   "source": [
    "plt.hist(kol_korobok, 50)\n",
    "plt.plot([146, 146], [-10, 45])\n",
    "plt.legend(['30-типроцентный квантиль'])\n",
    "plt.show()"
   ]
  },
  {
   "cell_type": "code",
   "execution_count": 286,
   "metadata": {},
   "outputs": [
    {
     "data": {
      "image/png": "[encoded data removed]",
      "text/plain": [
       "<Figure size 432x288 with 1 Axes>"
      ]
     },
     "metadata": {
      "needs_background": "light"
     },
     "output_type": "display_data"
    }
   ],
   "source": [
    "ves_gruza = df['ves gruza']\n",
    "kol_korobok = df['kol korobok']\n",
    "sns.regplot(x= kol_korobok, y=ves_gruza,data=df, fit_reg=False)\n",
    "plt.xlabel('kol korobok')\n",
    "plt.ylabel('ves gruza')\n",
    "plt.title('Точечный график генеральной совокупности')\n",
    "plt.show()"
   ]
  },
  {
   "cell_type": "code",
   "execution_count": 290,
   "metadata": {},
   "outputs": [
    {
     "data": {
      "image/png": "[encoded data removed]",
      "text/plain": [
       "<Figure size 432x288 with 1 Axes>"
      ]
     },
     "metadata": {
      "needs_background": "light"
     },
     "output_type": "display_data"
    }
   ],
   "source": [
    "ves_gruza_small = df[df['day']<=15]['ves gruza']\n",
    "kol_korobok_small = df[df['day']<=15]['kol korobok']\n",
    "sns.regplot(x= kol_korobok, y=ves_gruza,data=df, fit_reg=True)\n",
    "sns.regplot(x= kol_korobok_small, y=ves_gruza_small,data=df, fit_reg=True)\n",
    "plt.xlabel('kol_korobok')\n",
    "plt.ylabel('ves gruza')\n",
    "plt.legend(['Генеральная совокупность', 'Выборка'])\n",
    "plt.title('Точечный график генеральной совокупности')\n",
    "plt.show()"
   ]
  },
  {
   "cell_type": "markdown",
   "metadata": {},
   "source": [
    "По графику можно заметить,что выборка презентативна."
   ]
  },
  {
   "cell_type": "code",
   "execution_count": 301,
   "metadata": {},
   "outputs": [
    {
     "data": {
      "image/png": "[encoded data removed]",
      "text/plain": [
       "<Figure size 432x288 with 1 Axes>"
      ]
     },
     "metadata": {
      "needs_background": "light"
     },
     "output_type": "display_data"
    },
    {
     "name": "stdout",
     "output_type": "stream",
     "text": [
      "Коэффициент Пирсона = 0.8325170657126875\n"
     ]
    }
   ],
   "source": [
    "ves_gruza = df['ves gruza']\n",
    "kol_korobok = df['kol korobok']\n",
    "sns.regplot(x = kol_korobok, y = ves_gruza, data=df, fit_reg=True)\n",
    "plt.xlabel('kol_korobok')\n",
    "plt.ylabel('ves_gruza')\n",
    "plt.title('Корреляционная зависимость двух выборок')\n",
    "plt.grid(False)\n",
    "plt.show()\n",
    "corr = kol_korobok.corr(ves_gruza)\n",
    "print('Коэффициент Пирсона =', corr)"
   ]
  },
  {
   "cell_type": "markdown",
   "metadata": {},
   "source": [
    "Коэффицент приблизительно = 1, значит линейная связь между двумя величинами высокая "
   ]
  },
  {
   "cell_type": "code",
   "execution_count": 295,
   "metadata": {},
   "outputs": [
    {
     "data": {
      "image/png": "[encoded data removed]",
      "text/plain": [
       "<Figure size 432x288 with 1 Axes>"
      ]
     },
     "metadata": {
      "needs_background": "light"
     },
     "output_type": "display_data"
    }
   ],
   "source": [
    "plt.hist(df['ves gruza'], 50, facecolor='purple')\n",
    "plt.title('Частотный график',fontweight=\"bold\")\n",
    "plt.xlabel('Вес груза')\n",
    "plt.ylabel('Частота')\n",
    "plt.show()"
   ]
  },
  {
   "cell_type": "code",
   "execution_count": 297,
   "metadata": {},
   "outputs": [
    {
     "name": "stderr",
     "output_type": "stream",
     "text": [
      "C:\\Users\\karina\\anaconda3\\lib\\site-packages\\seaborn\\distributions.py:2551: FutureWarning: `distplot` is a deprecated function and will be removed in a future version. Please adapt your code to use either `displot` (a figure-level function with similar flexibility) or `histplot` (an axes-level function for histograms).\n",
      "  warnings.warn(msg, FutureWarning)\n"
     ]
    },
    {
     "data": {
      "image/png": "[encoded data removed]",
      "text/plain": [
       "<Figure size 432x288 with 1 Axes>"
      ]
     },
     "metadata": {
      "needs_background": "light"
     },
     "output_type": "display_data"
    }
   ],
   "source": [
    "ves_gruza = df['ves gruza']\n",
    "sns.distplot(ves_gruza)\n",
    "plt.title('Плотность вероятности распределения ves gruza')\n",
    "plt.show()"
   ]
  },
  {
   "cell_type": "markdown",
   "metadata": {},
   "source": [
    "По графику можно сказать, что распределение близко к нормальному, но всё таки вроде является распределнием Стьюдента"
   ]
  },
  {
   "cell_type": "markdown",
   "metadata": {},
   "source": [
    "### Тест Шапиро-Вилка\n",
    "\n",
    "Проверяет, является ли выборка нормальной.\n",
    "\n",
    "*  Гипотеза H0 - образец имеет нормальное гауссово распределение\n",
    "*  гипотеза H1 - образец не имеет нормальное распределение"
   ]
  },
  {
   "cell_type": "code",
   "execution_count": 313,
   "metadata": {},
   "outputs": [
    {
     "name": "stdout",
     "output_type": "stream",
     "text": [
      "stat=0.997, p=0.025\n",
      "не имеет нормальное гауссово распределение\n"
     ]
    }
   ],
   "source": [
    "# Example of the Shapiro-Wilk Normality Test\n",
    "from scipy.stats import shapiro\n",
    "alpha = 0.05\n",
    "stat, p = shapiro(df['ves gruza'])\n",
    "print('stat=%.3f, p=%.3f' % (stat, p))\n",
    "if p > alpha:\n",
    "# \n",
    "    print('имеет нормальное гауссово распределение')\n",
    "else:\n",
    "    print('не имеет нормальное гауссово распределение')"
   ]
  },
  {
   "cell_type": "markdown",
   "metadata": {},
   "source": [
    "Итак, мои сомнения подтвердились"
   ]
  },
  {
   "cell_type": "markdown",
   "metadata": {},
   "source": [
    "### Корреляционный тест"
   ]
  },
  {
   "cell_type": "markdown",
   "metadata": {},
   "source": [
    "До этого я вычисляла коэффициент корреляции Пирсона и выявила, что зависимость сущетвует, проверим это:"
   ]
  },
  {
   "cell_type": "markdown",
   "metadata": {},
   "source": [
    "* H0: два образца независимы\n",
    "* H1: существует зависимость между образцами."
   ]
  },
  {
   "cell_type": "code",
   "execution_count": 315,
   "metadata": {},
   "outputs": [
    {
     "name": "stdout",
     "output_type": "stream",
     "text": [
      "0.8325170657126876 0.0\n",
      "существует зависимость между величинами\n"
     ]
    }
   ],
   "source": [
    "from scipy.stats import pearsonr\n",
    "r, p = pearsonr(kol_korobok, ves_gruza)\n",
    "print(r, p)\n",
    "if p > 0.05:\n",
    "    print('независимы')\n",
    "else:\n",
    "    print('существует зависимость между величинами')"
   ]
  },
  {
   "cell_type": "markdown",
   "metadata": {},
   "source": [
    "Действительно, зависимость существует"
   ]
  },
  {
   "cell_type": "markdown",
   "metadata": {},
   "source": [
    "Разделим данные 'ves gruza' на 2 части 1051.23> и <1051.23 и проверим гипотезу\n",
    "* H0: Автомобиль грузоподъемностью 1.2 тонны сможет перевезти 140 коробок(со средним весом 1051,23)"
   ]
  },
  {
   "cell_type": "code",
   "execution_count": 322,
   "metadata": {},
   "outputs": [
    {
     "name": "stdout",
     "output_type": "stream",
     "text": [
      "Ttest_indResult(statistic=23.01965027316285, pvalue=3.5521414472942923e-100)\n"
     ]
    }
   ],
   "source": [
    "small_1 = df[df['ves gruza'] >= 1000]['kol korobok']\n",
    "small_2 = df[df['ves gruza'] < 1051.23]['kol korobok']\n",
    "\n",
    "print(stats.ttest_ind(small_1, small_2))"
   ]
  },
  {
   "cell_type": "markdown",
   "metadata": {},
   "source": [
    "Принимаем данную гипотезу, автомобиль сможет перевести 140 коробок"
   ]
  },
  {
   "cell_type": "code",
   "execution_count": null,
   "metadata": {},
   "outputs": [],
   "source": []
  }
 ],
 "metadata": {
  "kernelspec": {
   "display_name": "Python 3",
   "language": "python",
   "name": "python3"
  },
  "language_info": {
   "codemirror_mode": {
    "name": "ipython",
    "version": 3
   },
   "file_extension": ".py",
   "mimetype": "text/x-python",
   "name": "python",
   "nbconvert_exporter": "python",
   "pygments_lexer": "ipython3",
   "version": "3.8.5"
  }
 },
 "nbformat": 4,
 "nbformat_minor": 4
}
